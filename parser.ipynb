{
 "cells": [
  {
   "cell_type": "code",
   "execution_count": 918,
   "metadata": {},
   "outputs": [],
   "source": [
    "from bs4 import BeautifulSoup\n",
    "import pandas as pd\n",
    "import matplotlib.pyplot as plt\n",
    "import re\n",
    "\n",
    "import warnings\n",
    "warnings.filterwarnings(\"ignore\")"
   ]
  },
  {
   "cell_type": "code",
   "execution_count": 919,
   "metadata": {},
   "outputs": [],
   "source": [
    "path = 'SWD.html'"
   ]
  },
  {
   "cell_type": "code",
   "execution_count": 920,
   "metadata": {},
   "outputs": [],
   "source": [
    "def readHTML(path):\n",
    "    with open(path, 'r', encoding='utf-8') as file:\n",
    "        return file.read()\n",
    "    \n",
    "def extractData(table):\n",
    "    headers = [th.text.strip() for th in table.find_all('th')]\n",
    "    rows = []\n",
    "    for tr in table.find_all('tr'):\n",
    "        cells = tr.find_all('td')\n",
    "        if cells:\n",
    "            rows.append([cell.text.strip() for cell in cells])\n",
    "    return pd.DataFrame(rows, columns=headers)\n",
    "\n",
    "def parseHTML(data):\n",
    "    soup = BeautifulSoup(data, 'html.parser')\n",
    "    tables = soup.find_all('table')    \n",
    "    balance = extractData(tables[0])\n",
    "    other   = extractData(tables[1])\n",
    "    dues    = extractData(tables[2])\n",
    "    return balance, other, dues\n",
    "\n",
    "def plotData(df, title=None):\n",
    "    dfSorted = df.sort_index()\n",
    "    dfSorted.plot(kind='bar', figsize=(12, 6), title=title)\n",
    "    plt.ylabel('Dues')\n",
    "    plt.xticks(rotation=45)\n",
    "    plt.grid(axis='y')\n",
    "    plt.show()"
   ]
  },
  {
   "cell_type": "code",
   "execution_count": 921,
   "metadata": {},
   "outputs": [],
   "source": [
    "data = readHTML(path)\n",
    "balance, other, dues = parseHTML(data)"
   ]
  },
  {
   "cell_type": "code",
   "execution_count": 922,
   "metadata": {},
   "outputs": [],
   "source": [
    "dues = dues.drop(columns=['RECNO', 'IDNO', 'SNAME'])\n",
    "\n",
    "allFests    = ['APOGEE', 'BOSM', 'OASIS', 'INTERBITS']\n",
    "allEateries = ['ANC', 'F301', 'FM', 'LOOTERS', 'PARADISE', 'TOTT']\n",
    "allMonths   = ['DEC', 'JAN', 'FEB', 'MAR', 'APR', 'MAY']\n",
    "\n",
    "def include(df, inclusions):\n",
    "    return df[[col for col in df.columns if any(inc in col.upper() for inc in inclusions)]]"
   ]
  },
  {
   "cell_type": "code",
   "execution_count": 923,
   "metadata": {},
   "outputs": [],
   "source": [
    "def process(df, catName):\n",
    "    df = include(df, catName)\n",
    "    df = df.replace(r'^\\s*$', 0, regex=True)\n",
    "    df = df.apply(pd.to_numeric, errors='ignore')\n",
    "    df = df.loc[:, (df != 0).any(axis=0)]\n",
    "    if len(catName) == 1:\n",
    "        df.columns = [re.sub(rf'{catName[0]}', '', col) for col in df.columns]\n",
    "    df.columns = [re.sub(r'20|23|24', '', col) for col in df.columns]\n",
    "    df.columns = [re.sub(r'_', ' ', col) for col in df.columns]\n",
    "    df.columns = [re.sub(r'^\\s+', '', col) for col in df.columns] \n",
    "    return df.iloc[:, df.iloc[0].argsort()[::-1]].T"
   ]
  },
  {
   "cell_type": "code",
   "execution_count": 924,
   "metadata": {},
   "outputs": [],
   "source": [
    "su        = process(dues, 'SU')\n",
    "jh        = process(dues, 'JH')\n",
    "laundry   = process(dues, 'LAUNDR')"
   ]
  },
  {
   "cell_type": "code",
   "execution_count": 925,
   "metadata": {},
   "outputs": [],
   "source": [
    "fests     = process(dues, allFests)\n",
    "oasis     = process(dues, ['OASIS'])\n",
    "apogee    = process(dues, ['APOGEE'])\n",
    "bosm      = process(dues, ['BOSM'])\n",
    "interbits = process(dues, ['INTERBITS'])"
   ]
  },
  {
   "cell_type": "code",
   "execution_count": 926,
   "metadata": {},
   "outputs": [],
   "source": [
    "eateries  = process(dues, allEateries)\n",
    "anc       = process(dues, ['ANC'])\n",
    "f301      = process(dues, ['F301'])\n",
    "fm        = process(dues, ['FM'])\n",
    "looters   = process(dues, ['LOOTERS'])\n",
    "paradise  = process(dues, ['PARADISE'])\n",
    "tott      = process(dues, ['TOTT'])"
   ]
  },
  {
   "cell_type": "code",
   "execution_count": 927,
   "metadata": {},
   "outputs": [],
   "source": [
    "dec   = process(dues, ['DEC'])\n",
    "jan   = process(dues, ['JAN'])\n",
    "feb   = process(dues, ['FEB'])\n",
    "march = process(dues, ['MARCH'])\n",
    "april = process(dues, ['APRIL'])\n",
    "may   = process(dues, ['MAY'])"
   ]
  },
  {
   "cell_type": "code",
   "execution_count": 928,
   "metadata": {},
   "outputs": [],
   "source": [
    "decEateries   = process(eateries.T, ['DEC'])\n",
    "janEateries   = process(eateries.T, ['JAN'])\n",
    "febEateries   = process(eateries.T, ['FEB'])\n",
    "marchEateries = process(eateries.T, ['MARCH'])\n",
    "aprilEateries = process(eateries.T, ['APRIL'])\n",
    "mayEateries   = process(eateries.T, ['MAY'])"
   ]
  },
  {
   "cell_type": "code",
   "execution_count": null,
   "metadata": {},
   "outputs": [],
   "source": [
    "su"
   ]
  },
  {
   "cell_type": "code",
   "execution_count": null,
   "metadata": {},
   "outputs": [],
   "source": [
    "fests"
   ]
  },
  {
   "cell_type": "code",
   "execution_count": null,
   "metadata": {},
   "outputs": [],
   "source": [
    "eateries"
   ]
  },
  {
   "cell_type": "code",
   "execution_count": null,
   "metadata": {},
   "outputs": [],
   "source": [
    "plotData(april)"
   ]
  }
 ],
 "metadata": {
  "kernelspec": {
   "display_name": "base",
   "language": "python",
   "name": "python3"
  },
  "language_info": {
   "codemirror_mode": {
    "name": "ipython",
    "version": 3
   },
   "file_extension": ".py",
   "mimetype": "text/x-python",
   "name": "python",
   "nbconvert_exporter": "python",
   "pygments_lexer": "ipython3",
   "version": "3.10.13"
  }
 },
 "nbformat": 4,
 "nbformat_minor": 2
}
