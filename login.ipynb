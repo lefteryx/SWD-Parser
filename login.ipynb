{
 "cells": [
  {
   "cell_type": "code",
   "execution_count": 41,
   "metadata": {},
   "outputs": [],
   "source": [
    "import requests\n",
    "from bs4 import BeautifulSoup"
   ]
  },
  {
   "cell_type": "code",
   "execution_count": 42,
   "metadata": {},
   "outputs": [],
   "source": [
    "USERNAME = 'f20220146'\n",
    "PASSWORD = None\n",
    "\n",
    "login_url = 'https://swd.bits-pilani.ac.in/Login.aspx'\n",
    "arrears_url = 'https://swd.bits-pilani.ac.in/Student/Dues.aspx'"
   ]
  },
  {
   "cell_type": "code",
   "execution_count": 43,
   "metadata": {},
   "outputs": [
    {
     "name": "stdout",
     "output_type": "stream",
     "text": [
      "5 + 1 = 6\n"
     ]
    }
   ],
   "source": [
    "session = requests.Session()\n",
    "\n",
    "login_page = session.get(login_url)\n",
    "login_soup = BeautifulSoup(login_page.content, 'html.parser')\n",
    "\n",
    "captchaQuestion = login_soup.find('span', {'id': 'ContentPlaceHolder1_lblStopSpam'}).text\n",
    "captchaAnswer = eval(captchaQuestion)\n",
    "print(captchaQuestion, '=', captchaAnswer)"
   ]
  },
  {
   "cell_type": "code",
   "execution_count": 44,
   "metadata": {},
   "outputs": [],
   "source": [
    "login_viewstate = login_soup.find('input', {'name': '__VIEWSTATE'})['value']\n",
    "login_eventvalidation = login_soup.find('input', {'name': '__EVENTVALIDATION'})['value']"
   ]
  },
  {
   "cell_type": "code",
   "execution_count": 45,
   "metadata": {},
   "outputs": [],
   "source": [
    "login_payload = {\n",
    "    '__VIEWSTATE': login_viewstate,\n",
    "    '__EVENTVALIDATION': login_eventvalidation,\n",
    "    'ctl00$ContentPlaceHolder1$TextBox1': USERNAME,\n",
    "    'ctl00$ContentPlaceHolder1$TextBox2': PASSWORD,\n",
    "    'ctl00$ContentPlaceHolder1$txtCaptcha': captchaAnswer,\n",
    "    'ctl00$ContentPlaceHolder1$loginBtn': 'Login',\n",
    "}\n",
    "\n",
    "login_response = session.post(login_url, data=login_payload)"
   ]
  },
  {
   "cell_type": "code",
   "execution_count": 46,
   "metadata": {},
   "outputs": [
    {
     "name": "stdout",
     "output_type": "stream",
     "text": [
      "Login successful.\n"
     ]
    }
   ],
   "source": [
    "if 'WELCOME' not in login_response.text:\n",
    "    print('Login failed.')\n",
    "else:\n",
    "    print('Login successful.')"
   ]
  },
  {
   "cell_type": "code",
   "execution_count": 47,
   "metadata": {},
   "outputs": [],
   "source": [
    "arrears_page = session.get(arrears_url)\n",
    "arrears_soup = BeautifulSoup(arrears_page.content, 'html.parser')"
   ]
  },
  {
   "cell_type": "code",
   "execution_count": 48,
   "metadata": {},
   "outputs": [],
   "source": [
    "arrears_viewstate = arrears_soup.find('input', {'name': '__VIEWSTATE'})['value']\n",
    "arrears_eventvalidation = arrears_soup.find('input', {'name': '__EVENTVALIDATION'})['value']"
   ]
  },
  {
   "cell_type": "code",
   "execution_count": 49,
   "metadata": {},
   "outputs": [],
   "source": [
    "arrears_payload = {\n",
    "    '__VIEWSTATE': arrears_viewstate,\n",
    "    '__EVENTVALIDATION': arrears_eventvalidation,\n",
    "    'Button2': 'Arrears',\n",
    "}\n",
    "\n",
    "arrears_response = session.post(arrears_url, data=arrears_payload)"
   ]
  },
  {
   "cell_type": "code",
   "execution_count": 50,
   "metadata": {},
   "outputs": [
    {
     "name": "stdout",
     "output_type": "stream",
     "text": [
      "Failed to download arrears.html.\n"
     ]
    }
   ],
   "source": [
    "if 'SPLITUP' in arrears_response.text:\n",
    "    with open('arrears.html', 'w', encoding='utf-8') as file:\n",
    "        file.write(arrears_response.text)\n",
    "    print('arrears.html downloaded.')\n",
    "else:\n",
    "    print(f'Failed to download arrears.html.')"
   ]
  }
 ],
 "metadata": {
  "kernelspec": {
   "display_name": "base",
   "language": "python",
   "name": "python3"
  },
  "language_info": {
   "codemirror_mode": {
    "name": "ipython",
    "version": 3
   },
   "file_extension": ".py",
   "mimetype": "text/x-python",
   "name": "python",
   "nbconvert_exporter": "python",
   "pygments_lexer": "ipython3",
   "version": "3.10.13"
  }
 },
 "nbformat": 4,
 "nbformat_minor": 2
}
